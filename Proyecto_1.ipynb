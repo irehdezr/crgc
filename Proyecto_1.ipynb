{
  "nbformat": 4,
  "nbformat_minor": 0,
  "metadata": {
    "colab": {
      "name": "Proyecto 1.ipynb",
      "provenance": [],
      "authorship_tag": "ABX9TyMje7MB7k2rxLt7ojxcDfAX",
      "include_colab_link": true
    },
    "kernelspec": {
      "name": "python3",
      "display_name": "Python 3"
    },
    "language_info": {
      "name": "python"
    }
  },
  "cells": [
    {
      "cell_type": "markdown",
      "metadata": {
        "id": "view-in-github",
        "colab_type": "text"
      },
      "source": [
        "<a href=\"https://colab.research.google.com/github/irehdezr/crgc/blob/master/Proyecto_1.ipynb\" target=\"_parent\"><img src=\"https://colab.research.google.com/assets/colab-badge.svg\" alt=\"Open In Colab\"/></a>"
      ]
    },
    {
      "cell_type": "code",
      "execution_count": 30,
      "metadata": {
        "id": "AqIhZQPZmmpr"
      },
      "outputs": [],
      "source": [
        "import pandas as pd\n",
        "import matplotlib.pyplot as plt\n",
        "\n",
        "from google.colab import auth\n",
        "auth.authenticate_user()\n",
        "\n",
        "import gspread\n",
        "from google.auth import default\n",
        "creds, _ = default()\n",
        "\n",
        "gc = gspread.authorize(creds)\n",
        "sh = gc.create('Hojita')"
      ]
    },
    {
      "cell_type": "code",
      "source": [
        ""
      ],
      "metadata": {
        "id": "mG9rNNe0otW1"
      },
      "execution_count": null,
      "outputs": []
    },
    {
      "cell_type": "code",
      "execution_count": 31,
      "metadata": {
        "colab": {
          "base_uri": "https://localhost:8080/"
        },
        "id": "ASdgLIt2s-ux",
        "outputId": "3d7df085-d232-4032-f292-56ff422c90ae"
      },
      "outputs": [
        {
          "output_type": "execute_result",
          "data": {
            "text/plain": [
              "{'spreadsheetId': '18nPcDQ_-24v9NHHQMyNGxr-NXHVdxyBL95S58qooaWU',\n",
              " 'updatedCells': 91,\n",
              " 'updatedColumns': 7,\n",
              " 'updatedRange': \"'Hoja 1'!A2:G14\",\n",
              " 'updatedRows': 13}"
            ]
          },
          "metadata": {},
          "execution_count": 31
        }
      ],
      "source": [
        "worksheet = gc.open('Hojita').sheet1\n",
        "\n",
        "cell_list = worksheet.range('A2:G14')\n",
        "\n",
        "import random\n",
        "for cell in cell_list:\n",
        "  cell.value = random.randint(1, 10)\n",
        "\n",
        "worksheet.update_cells(cell_list)"
      ]
    },
    {
      "cell_type": "code",
      "source": [
        ""
      ],
      "metadata": {
        "id": "ldN8mDsIpBW7"
      },
      "execution_count": null,
      "outputs": []
    },
    {
      "cell_type": "code",
      "execution_count": 69,
      "metadata": {
        "colab": {
          "base_uri": "https://localhost:8080/"
        },
        "id": "J4QxBareshEV",
        "outputId": "3e8f852c-9e9e-40bb-bcb2-d3191776d685"
      },
      "outputs": [
        {
          "output_type": "stream",
          "name": "stdout",
          "text": [
            "[[\"Lunes'\", \"Martes'\", \"Miércoles'\", \"Jueves'\", \"Viernes'\", \"Sábado'\", \"Domingo'\"], ['1', '1', '8', '10', '5', '5', '9'], ['3', '2', '10', '10', '6', '1', '8'], ['5', '2', '4', '3', '2', '5', '9'], ['6', '9', '2', '6', '1', '1', '1'], ['10', '4', '10', '8', '10', '2', '2'], ['10', '6', '6', '5', '1', '7', '10'], ['4', '5', '3', '9', '6', '2', '6'], ['5', '9', '3', '1', '10', '2', '9'], ['4', '2', '9', '2', '2', '7', '6'], ['6', '8', '3', '10', '5', '8', '6'], ['7', '2', '9', '1', '3', '2', '6'], ['6', '8', '7', '10', '4', '10', '4'], ['7', '4', '4', '2', '2', '8', '2']]\n",
            "<module 'pandas' from '/usr/local/lib/python3.7/dist-packages/pandas/__init__.py'>\n"
          ]
        }
      ],
      "source": [
        "worksheet = gc.open('Hojita').sheet1\n",
        "\n",
        "# get_all_values gives a list of rows.\n",
        "rows = worksheet.get_all_values()\n",
        "print(rows)\n",
        "\n",
        "import pandas as pd\n",
        "pd.DataFrame.from_records(rows)\n",
        " \n",
        "print(pd)\n",
        "\n"
      ]
    },
    {
      "cell_type": "code",
      "source": [
        ""
      ],
      "metadata": {
        "id": "bMzSO3drHa2X"
      },
      "execution_count": null,
      "outputs": []
    }
  ]
}