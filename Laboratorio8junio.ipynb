{
  "nbformat": 4,
  "nbformat_minor": 0,
  "metadata": {
    "colab": {
      "name": "Laboratorio8junio.ipynb",
      "provenance": [],
      "authorship_tag": "ABX9TyONk480UTob83jejhlljxht",
      "include_colab_link": true
    },
    "kernelspec": {
      "name": "python3",
      "display_name": "Python 3"
    },
    "language_info": {
      "name": "python"
    }
  },
  "cells": [
    {
      "cell_type": "markdown",
      "metadata": {
        "id": "view-in-github",
        "colab_type": "text"
      },
      "source": [
        "<a href=\"https://colab.research.google.com/github/irehdezr/crgc/blob/master/Laboratorio8junio.ipynb\" target=\"_parent\"><img src=\"https://colab.research.google.com/assets/colab-badge.svg\" alt=\"Open In Colab\"/></a>"
      ]
    },
    {
      "cell_type": "markdown",
      "source": [
        "## ***Laboratorio inicial de uso de Colab***"
      ],
      "metadata": {
        "id": "KUi0UXSxBPl8"
      }
    },
    {
      "cell_type": "markdown",
      "source": [
        "**II ciclo **"
      ],
      "metadata": {
        "id": "MJMtgEkBB4-Y"
      }
    },
    {
      "cell_type": "markdown",
      "source": [
        "Irene Hernández"
      ],
      "metadata": {
        "id": "1qgLsipPBYA7"
      }
    },
    {
      "cell_type": "code",
      "source": [
        "import pandas as pd\n",
        "\n",
        "from google.colab import auth\n",
        "auth.authenticate_user()\n",
        "\n",
        "import gspread\n",
        "from google.auth import default\n",
        "creds, _ = default()\n",
        "\n",
        "gc=gspread.authorize(creds)\n",
        "sh=gc.create('Hojita')\n",
        "\n"
      ],
      "metadata": {
        "id": "vhU-kD72CDd2"
      },
      "execution_count": 9,
      "outputs": []
    },
    {
      "cell_type": "code",
      "source": [
        "from gspread.models import Worksheet\n",
        "worksheet = gc.open('Hojita').sheet1\n",
        "\n",
        "cell_list = worksheet.range('A1:G14')\n",
        "\n",
        "import random\n",
        "for cell in cell_list:\n",
        "  cell.value = random.randint(5,500)\n",
        "\n",
        "worksheet.update_cells(cell_list)\n"
      ],
      "metadata": {
        "colab": {
          "base_uri": "https://localhost:8080/"
        },
        "id": "y4SkEmFHEYmG",
        "outputId": "5c1ec44e-8c4e-4a2b-9de3-20d8f684df2a"
      },
      "execution_count": 10,
      "outputs": [
        {
          "output_type": "execute_result",
          "data": {
            "text/plain": [
              "{'spreadsheetId': '1dnbnNL9q4our0ytQF3H5ha3ASlcwanrJ_7dDt8-KKj8',\n",
              " 'updatedCells': 98,\n",
              " 'updatedColumns': 7,\n",
              " 'updatedRange': \"'Hoja 1'!A1:G14\",\n",
              " 'updatedRows': 14}"
            ]
          },
          "metadata": {},
          "execution_count": 10
        }
      ]
    },
    {
      "cell_type": "code",
      "source": [
        "worksheet = gc.open('Hojita').sheet1\n",
        "rows=worksheet.get_all_values()\n",
        "print(rows)"
      ],
      "metadata": {
        "colab": {
          "base_uri": "https://localhost:8080/"
        },
        "id": "pEaU3VjeHxPx",
        "outputId": "d735b693-b1ba-48f1-86ac-99cf866b245d"
      },
      "execution_count": 11,
      "outputs": [
        {
          "output_type": "stream",
          "name": "stdout",
          "text": [
            "[['300', '380', '21', '420', '305', '73', '352'], ['202', '10', '242', '261', '227', '350', '372'], ['227', '393', '104', '234', '109', '117', '224'], ['40', '483', '34', '47', '308', '125', '363'], ['350', '119', '427', '484', '172', '316', '9'], ['397', '45', '108', '120', '252', '474', '483'], ['6', '480', '297', '469', '89', '59', '99'], ['424', '357', '257', '76', '256', '48', '101'], ['449', '74', '407', '122', '394', '91', '256'], ['274', '192', '408', '107', '87', '5', '451'], ['332', '313', '79', '24', '124', '451', '367'], ['27', '263', '300', '41', '41', '420', '412'], ['132', '87', '136', '299', '414', '149', '258'], ['399', '175', '365', '279', '68', '43', '201']]\n"
          ]
        }
      ]
    }
  ]
}